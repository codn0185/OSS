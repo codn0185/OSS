{
 "cells": [
  {
   "cell_type": "code",
   "execution_count": 14,
   "id": "8007f220",
   "metadata": {},
   "outputs": [
    {
     "name": "stdout",
     "output_type": "stream",
     "text": [
      "[67.43295211726381, 39.09680035185642, 11.311116118429767, 8.72870084123607, 50.36704987597114, 10.645359725714703, 17.12882463676447, 29.270369934986732, 12.51119888291313, 15.062963186117974, 16.904805284817794, 21.48059911343709, 10.998990155216374, 27.7398281517646, 17.786331026742637, 7.3977300805020985, 10.949634419080832]\n",
      "### Korean Population by Region\n",
      "* Total population: 51669716\n",
      "\n",
      "| Region | Population | Ratio (%) |\n",
      "| ------ | ---------- | --------- |\n",
      "| Seoul | 9550227 | 0.00674 |\n",
      "| Gyeongi | 13530519 | 0.00391 |\n",
      "| Busan | 3359527 | 0.00113 |\n",
      "| Gyeongnam | 3322373 | 0.00087 |\n",
      "| Incheon | 2938429 | 0.00504 |\n",
      "| Gyeongbuk | 2630254 | 0.00106 |\n",
      "| Daegu | 2393626 | 0.00171 |\n",
      "| Chungnam | 2118183 | 0.00293 |\n",
      "| Jeonnam | 1838353 | 0.00125 |\n",
      "| Jeonbuk | 1792476 | 0.00151 |\n",
      "| Chungbuk | 1597179 | 0.00169 |\n",
      "| Gangwon | 1536270 | 0.00215 |\n",
      "| Daejeon | 1454679 | 0.00110 |\n",
      "| Gwangju | 1441970 | 0.00277 |\n",
      "| Ulsan | 1124459 | 0.00178 |\n",
      "| Jeju | 675883 | 0.00074 |\n",
      "| Sejong | 365309 | 0.00109 |\n",
      "\n",
      "### Korean COVID-19 New Cases by Region\n",
      "* Total COVID-19 new cases: 1714\n"
     ]
    }
   ],
   "source": [
    "def normalize_data(n_cases, n_people, scale):\n",
    "    # TODO: Calculate the number of cases per its population\n",
    "    norm_cases = []\n",
    "    for idx, n in enumerate(n_cases):\n",
    "        norm_cases.append(n / n_people[idx] * scale)\n",
    "    return norm_cases\n",
    "\n",
    "regions  = ['Seoul', 'Gyeongi', 'Busan', 'Gyeongnam', 'Incheon', 'Gyeongbuk', 'Daegu', 'Chungnam', 'Jeonnam', 'Jeonbuk', 'Chungbuk', 'Gangwon', 'Daejeon', 'Gwangju', 'Ulsan', 'Jeju', 'Sejong']\n",
    "n_people = [9550227,  13530519, 3359527,     3322373,   2938429,     2630254, 2393626,    2118183,   1838353,   1792476,    1597179,   1536270,   1454679,   1441970, 1124459, 675883,   365309] # 2021-08\n",
    "n_covid  = [    644,       529,      38,          29,       148,          28,      41,         62,        23,        27,         27,        33,        16,        40,      20,      5,        4] # 2021-09-21\n",
    "\n",
    "sum_people = 0 # TODO: The total number of people\n",
    "for n in n_people:\n",
    "    sum_people += n\n",
    "sum_covid  = 0 # TODO: The total number of new cases\n",
    "for n in n_covid:\n",
    "    sum_covid += n\n",
    "scale = 1000000\n",
    "norm_covid = normalize_data(n_covid, n_people, 1000000) # The new cases per 1 million people\n",
    "for i in norm_covid:\n",
    "    print(i)\n",
    "\n",
    "# Print population by region\n",
    "print('### Korean Population by Region')\n",
    "print('* Total population:', sum_people)\n",
    "print() # Print an empty line\n",
    "print('| Region | Population | Ratio (%) |')\n",
    "print('| ------ | ---------- | --------- |')\n",
    "for idx, pop in enumerate(n_people):\n",
    "    ratio = 0 # TODO: The ratio of new cases to the total\n",
    "    ratio = n_covid[idx] / pop * 100\n",
    "    print('| %s | %d | %.5f |' % (regions[idx], pop, ratio))\n",
    "print()\n",
    "\n",
    "# TODO: Print COVID-19 new cases by region\n",
    "print('### Korean COVID-19 New Cases by Region')\n",
    "print('* Total COVID-19 new cases:', sum_covid)"
   ]
  }
 ],
 "metadata": {
  "kernelspec": {
   "display_name": "Python 3 (ipykernel)",
   "language": "python",
   "name": "python3"
  },
  "language_info": {
   "codemirror_mode": {
    "name": "ipython",
    "version": 3
   },
   "file_extension": ".py",
   "mimetype": "text/x-python",
   "name": "python",
   "nbconvert_exporter": "python",
   "pygments_lexer": "ipython3",
   "version": "3.9.12"
  }
 },
 "nbformat": 4,
 "nbformat_minor": 5
}
