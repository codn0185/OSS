{
 "cells": [
  {
   "cell_type": "code",
   "execution_count": 1,
   "id": "b93167df",
   "metadata": {},
   "outputs": [
    {
     "name": "stdout",
     "output_type": "stream",
     "text": [
      "### Korean Population by Region\n",
      "* Total population: 51669716\n",
      "\n",
      "| Region | Population | Ratio (%) |\n",
      "| ------ | ---------- | --------- |\n",
      "| Seoul | 9550227 | 18.5 |\n",
      "| Gyeongi | 13530519 | 26.2 |\n",
      "| Busan | 3359527 | 6.5 |\n",
      "| Gyeongnam | 3322373 | 6.4 |\n",
      "| Incheon | 2938429 | 5.7 |\n",
      "| Gyeongbuk | 2630254 | 5.1 |\n",
      "| Daegu | 2393626 | 4.6 |\n",
      "| Chungnam | 2118183 | 4.1 |\n",
      "| Jeonnam | 1838353 | 3.6 |\n",
      "| Jeonbuk | 1792476 | 3.5 |\n",
      "| Chungbuk | 1597179 | 3.1 |\n",
      "| Gangwon | 1536270 | 3.0 |\n",
      "| Daejeon | 1454679 | 2.8 |\n",
      "| Gwangju | 1441970 | 2.8 |\n",
      "| Ulsan | 1124459 | 2.2 |\n",
      "| Jeju | 675883 | 1.3 |\n",
      "| Sejong | 365309 | 0.7 |\n",
      "\n",
      "\n",
      "\n",
      "### Korean COVID-19 New Cases by Region\n",
      "* Total COVID-19 new cases: 1714\n",
      "\n",
      "| Region | New Cases | Ratio (%) | New Cases / 1M |\n",
      "| ------ | --------- | --------- | -------------- |\n"
     ]
    },
    {
     "ename": "NameError",
     "evalue": "name 'norm_cases' is not defined",
     "output_type": "error",
     "traceback": [
      "\u001b[1;31m---------------------------------------------------------------------------\u001b[0m",
      "\u001b[1;31mNameError\u001b[0m                                 Traceback (most recent call last)",
      "\u001b[1;32m<ipython-input-1-26ad21c8b866>\u001b[0m in \u001b[0;36m<module>\u001b[1;34m\u001b[0m\n\u001b[0;32m     39\u001b[0m \u001b[1;32mfor\u001b[0m \u001b[0midx\u001b[0m\u001b[1;33m,\u001b[0m \u001b[0mcases\u001b[0m \u001b[1;32min\u001b[0m \u001b[0menumerate\u001b[0m\u001b[1;33m(\u001b[0m\u001b[0mn_covid\u001b[0m\u001b[1;33m)\u001b[0m\u001b[1;33m:\u001b[0m\u001b[1;33m\u001b[0m\u001b[1;33m\u001b[0m\u001b[0m\n\u001b[0;32m     40\u001b[0m     \u001b[0mratio\u001b[0m \u001b[1;33m=\u001b[0m \u001b[0mcases\u001b[0m \u001b[1;33m/\u001b[0m \u001b[0msum_covid\u001b[0m \u001b[1;33m*\u001b[0m \u001b[1;36m100\u001b[0m\u001b[1;33m\u001b[0m\u001b[1;33m\u001b[0m\u001b[0m\n\u001b[1;32m---> 41\u001b[1;33m     \u001b[0mcases_per_mil\u001b[0m \u001b[1;33m=\u001b[0m \u001b[0mnorm_cases\u001b[0m\u001b[1;33m[\u001b[0m\u001b[0midx\u001b[0m\u001b[1;33m]\u001b[0m\u001b[1;33m\u001b[0m\u001b[1;33m\u001b[0m\u001b[0m\n\u001b[0m\u001b[0;32m     42\u001b[0m     \u001b[0mprint\u001b[0m\u001b[1;33m(\u001b[0m\u001b[1;34m'| %s | %d | %.1f | %.1f |'\u001b[0m \u001b[1;33m%\u001b[0m \u001b[1;33m(\u001b[0m\u001b[0mregions\u001b[0m\u001b[1;33m[\u001b[0m\u001b[0midx\u001b[0m\u001b[1;33m]\u001b[0m\u001b[1;33m,\u001b[0m \u001b[0mcases\u001b[0m\u001b[1;33m,\u001b[0m \u001b[0mratio\u001b[0m\u001b[1;33m,\u001b[0m \u001b[0mcases_per_mil\u001b[0m\u001b[1;33m)\u001b[0m\u001b[1;33m)\u001b[0m\u001b[1;33m\u001b[0m\u001b[1;33m\u001b[0m\u001b[0m\n\u001b[0;32m     43\u001b[0m \u001b[0mprint\u001b[0m\u001b[1;33m(\u001b[0m\u001b[1;34m'\\n\\n'\u001b[0m\u001b[1;33m)\u001b[0m\u001b[1;33m\u001b[0m\u001b[1;33m\u001b[0m\u001b[0m\n",
      "\u001b[1;31mNameError\u001b[0m: name 'norm_cases' is not defined"
     ]
    }
   ],
   "source": [
    "def normalize_data(n_cases, n_people, scale):\n",
    "    # TODO: Calculate the number of cases per its population\n",
    "    norm_cases = []\n",
    "    for idx, n in enumerate(n_cases):\n",
    "        norm_cases.append(n / n_people[idx] * scale)\n",
    "    return norm_cases\n",
    "\n",
    "regions  = ['Seoul', 'Gyeongi', 'Busan', 'Gyeongnam', 'Incheon', 'Gyeongbuk', 'Daegu', 'Chungnam', 'Jeonnam', 'Jeonbuk', 'Chungbuk', 'Gangwon', 'Daejeon', 'Gwangju', 'Ulsan', 'Jeju', 'Sejong']\n",
    "n_people = [9550227,  13530519, 3359527,     3322373,   2938429,     2630254, 2393626,    2118183,   1838353,   1792476,    1597179,   1536270,   1454679,   1441970, 1124459, 675883,   365309] # 2021-08\n",
    "n_covid  = [    644,       529,      38,          29,       148,          28,      41,         62,        23,        27,         27,        33,        16,        40,      20,      5,        4] # 2021-09-21\n",
    "\n",
    "sum_people = 0 # TODO: The total number of people\n",
    "for n in n_people:\n",
    "    sum_people += n\n",
    "sum_covid  = 0 # TODO: The total number of new cases\n",
    "for n in n_covid:\n",
    "    sum_covid += n\n",
    "scale = 10**6\n",
    "norm_covid = normalize_data(n_covid, n_people, scale) # The new cases per 1 million people\n",
    "\n",
    "# Print population by region\n",
    "print('### Korean Population by Region')\n",
    "print('* Total population:', sum_people)\n",
    "print() # Print an empty line\n",
    "print('| Region | Population | Ratio (%) |')\n",
    "print('| ------ | ---------- | --------- |')\n",
    "for idx, pop in enumerate(n_people):\n",
    "    ratio = 0 # TODO: The ratio of new cases to the total\n",
    "    ratio = n_people[idx] / sum_people * 100\n",
    "    print('| %s | %d | %.1f |' % (regions[idx], pop, ratio))\n",
    "print('\\n\\n')\n",
    "\n",
    "# TODO: Print COVID-19 new cases by region\n",
    "print('### Korean COVID-19 New Cases by Region')\n",
    "print('* Total COVID-19 new cases:', sum_covid)\n",
    "print() # Print an empty line\n",
    "print('| Region | New Cases | Ratio (%) | New Cases / 1M |')\n",
    "print('| ------ | --------- | --------- | -------------- |')\n",
    "for idx, cases in enumerate(n_covid):\n",
    "    ratio = cases / sum_covid * 100\n",
    "    cases_per_mil = norm_covid[idx]\n",
    "    print('| %s | %d | %.1f | %.1f |' % (regions[idx], cases, ratio, cases_per_mil))\n",
    "print('\\n\\n')"
   ]
  }
 ],
 "metadata": {
  "kernelspec": {
   "display_name": "Python 3",
   "language": "python",
   "name": "python3"
  },
  "language_info": {
   "codemirror_mode": {
    "name": "ipython",
    "version": 3
   },
   "file_extension": ".py",
   "mimetype": "text/x-python",
   "name": "python",
   "nbconvert_exporter": "python",
   "pygments_lexer": "ipython3",
   "version": "3.8.8"
  }
 },
 "nbformat": 4,
 "nbformat_minor": 5
}
