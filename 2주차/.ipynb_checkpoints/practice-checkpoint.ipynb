{
 "cells": [
  {
   "cell_type": "code",
   "execution_count": 21,
   "id": "b93167df",
   "metadata": {},
   "outputs": [
    {
     "ename": "SyntaxError",
     "evalue": "invalid syntax (4075383849.py, line 13)",
     "output_type": "error",
     "traceback": [
      "\u001b[1;36m  Input \u001b[1;32mIn [21]\u001b[1;36m\u001b[0m\n\u001b[1;33m    sum_people += n for n in n_people\u001b[0m\n\u001b[1;37m                    ^\u001b[0m\n\u001b[1;31mSyntaxError\u001b[0m\u001b[1;31m:\u001b[0m invalid syntax\n"
     ]
    }
   ],
   "source": [
    "def normalize_data(n_cases, n_people, scale):\n",
    "    # TODO: Calculate the number of cases per its population\n",
    "    norm_cases = []\n",
    "    for idx, n in enumerate(n_cases):\n",
    "        norm_cases.append(n / n_people[idx] * scale)\n",
    "    return norm_cases\n",
    "\n",
    "regions  = ['Seoul', 'Gyeongi', 'Busan', 'Gyeongnam', 'Incheon', 'Gyeongbuk', 'Daegu', 'Chungnam', 'Jeonnam', 'Jeonbuk', 'Chungbuk', 'Gangwon', 'Daejeon', 'Gwangju', 'Ulsan', 'Jeju', 'Sejong']\n",
    "n_people = [9550227,  13530519, 3359527,     3322373,   2938429,     2630254, 2393626,    2118183,   1838353,   1792476,    1597179,   1536270,   1454679,   1441970, 1124459, 675883,   365309] # 2021-08\n",
    "n_covid  = [    644,       529,      38,          29,       148,          28,      41,         62,        23,        27,         27,        33,        16,        40,      20,      5,        4] # 2021-09-21\n",
    "\n",
    "sum_people = 0 # TODO: The total number of people\n",
    "for n in n_people:\n",
    "    sum_people += n\n",
    "sum_covid  = 0 # TODO: The total number of new cases\n",
    "for n in n_covid:\n",
    "    sum_covid += n\n",
    "scale = 10**6\n",
    "norm_covid = normalize_data(n_covid, n_people, scale) # The new cases per 1 million people\n",
    "\n",
    "# Print population by region\n",
    "print('### Korean Population by Region')\n",
    "print('* Total population:', sum_people)\n",
    "print() # Print an empty line\n",
    "print('| Region | Population | Ratio (%) |')\n",
    "print('| ------ | ---------- | --------- |')\n",
    "for idx, pop in enumerate(n_people):\n",
    "    ratio = 0 # TODO: The ratio of new cases to the total\n",
    "    ratio = n_covid[idx] / pop * 100\n",
    "    print('| %-9s | %-8d | %-8.5f |' % (regions[idx], pop, ratio))\n",
    "    \n",
    "print('\\n\\n')\n",
    "\n",
    "# TODO: Print COVID-19 new cases by region\n",
    "print('### Korean COVID-19 New Cases by Region')\n",
    "print('* Total COVID-19 new cases:', sum_covid)\n",
    "print() # Print an empty line\n",
    "print('| Region | COVID-19 new cases | Ratio (%) |')\n",
    "print('| ------ | ------------------ | --------- |')\n",
    "for idx, case in enumerate(n_covid):\n",
    "    ratio = case / n_people[idx] * 100\n",
    "    print('| %-9s | %-16d | %-8.5f |' % (regions[idx], case, ratio))\n",
    "print()"
   ]
  }
 ],
 "metadata": {
  "kernelspec": {
   "display_name": "Python 3 (ipykernel)",
   "language": "python",
   "name": "python3"
  },
  "language_info": {
   "codemirror_mode": {
    "name": "ipython",
    "version": 3
   },
   "file_extension": ".py",
   "mimetype": "text/x-python",
   "name": "python",
   "nbconvert_exporter": "python",
   "pygments_lexer": "ipython3",
   "version": "3.9.12"
  }
 },
 "nbformat": 4,
 "nbformat_minor": 5
}
