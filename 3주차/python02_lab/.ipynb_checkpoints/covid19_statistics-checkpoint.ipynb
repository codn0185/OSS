{
 "cells": [
  {
   "cell_type": "code",
   "execution_count": 13,
   "id": "413d4f49",
   "metadata": {
    "scrolled": true
   },
   "outputs": [
    {
     "name": "stdout",
     "output_type": "stream",
     "text": [
      "Loaded!\n"
     ]
    }
   ],
   "source": [
    "import pandas as pd\n",
    "print(\"Loaded!\")\n",
    "\n",
    "filepath = \"data/class_score_kr.csv\"\n",
    "column_names = [\"midterm\", \"final\", \"total\"] # 125 100 100\n",
    "df = pd.read_csv(filepath, names=column_names)"
   ]
  },
  {
   "cell_type": "code",
   "execution_count": 6,
   "id": "61a4e372",
   "metadata": {
    "collapsed": true
   },
   "outputs": [
    {
     "name": "stdout",
     "output_type": "stream",
     "text": [
      "## Individual Score\n",
      "| Midterm | Final | Total |\n",
      "| --- | --- | --- |\n",
      "| 123 | 94 | 95.760 |\n",
      "| 112 | 92 | 91.040 |\n",
      "| 97 | 98 | 89.840 |\n",
      "| 87 | 90 | 81.840 |\n",
      "| 89 | 87 | 80.680 |\n",
      "| 86 | 83 | 77.320 |\n",
      "| 93 | 82 | 78.960 |\n",
      "| 87 | 81 | 76.440 |\n",
      "| 116 | 65 | 76.120 |\n",
      "| 104 | 77 | 79.480 |\n",
      "| 84 | 87 | 79.080 |\n",
      "| 95 | 71 | 73.000 |\n",
      "| 94 | 83 | 79.880 |\n",
      "| 94 | 77 | 76.280 |\n",
      "| 74 | 82 | 72.880 |\n",
      "| 110 | 77 | 81.400 |\n",
      "| 74 | 78 | 70.480 |\n",
      "| 86 | 69 | 68.920 |\n",
      "| 79 | 76 | 70.880 |\n",
      "| 82 | 75 | 71.240 |\n",
      "| 90 | 67 | 69.000 |\n",
      "| 91 | 63 | 66.920 |\n",
      "| 53 | 89 | 70.360 |\n",
      "| 61 | 79 | 66.920 |\n",
      "| 67 | 72 | 64.640 |\n",
      "| 69 | 69 | 63.480 |\n",
      "| 84 | 65 | 65.880 |\n",
      "| 69 | 71 | 64.680 |\n",
      "| 81 | 62 | 63.120 |\n",
      "| 62 | 77 | 66.040 |\n",
      "| 65 | 69 | 62.200 |\n",
      "| 77 | 60 | 60.640 |\n",
      "| 69 | 65 | 61.080 |\n",
      "| 87 | 52 | 59.040 |\n",
      "| 105 | 64 | 72.000 |\n",
      "| 61 | 28 | 36.320 |\n",
      "| 45 | 73 | 58.200 |\n",
      "| 56 | 32 | 37.120 |\n",
      "| 56 | 13 | 25.720 |\n",
      "| 58 | 20 | 30.560 |\n",
      "| 49 | 15 | 24.680 |\n",
      "| 41 | 22 | 26.320 |\n",
      "| 20 | 28 | 23.200 |\n",
      "| 75 | 0 | 24.000 |\n",
      "| 46 | 14 | 23.120 |\n",
      "| 26 | 0 | 8.320 |\n",
      "| 22 | 9 | 12.440 |\n",
      "| 23 | 0 | 7.360 |\n",
      "| 10 | 9 | 8.600 |\n",
      "| 0 | 0 | 0.000 |\n",
      "| 0 | 0 | 0.000 |\n"
     ]
    }
   ],
   "source": [
    "df[\"total\"] = 40 / 125 * df[\"midterm\"] + 60 / 100 * df[\"final\"]\n",
    "\n",
    "print('## Individual Score')\n",
    "print(\"| Midterm | Final | Total |\")\n",
    "print(\"| --- | --- | --- |\")\n",
    "for row in df.itertuples():\n",
    "    midterm = row[1]\n",
    "    final = row[2]\n",
    "    total = row[3]\n",
    "    print(f\"| {midterm} | {final} | {total:.3f} |\")"
   ]
  },
  {
   "cell_type": "code",
   "execution_count": 7,
   "id": "4b321ef6",
   "metadata": {},
   "outputs": [],
   "source": [
    "def get_analysis(data:list):\n",
    "    mean = sum(data) / len(data)\n",
    "    variance = sum([(i - mean) ** 2 for i in data]) / len(data)\n",
    "    data.sort()\n",
    "    median = data[len(data) // 2] if len(data) % 2 == 1 else (data[len(data) // 2 - 1] + data[len(data) // 2]) / 2\n",
    "    min, max = data[0], data[-1]\n",
    "    return mean, variance, median, min, max"
   ]
  },
  {
   "cell_type": "code",
   "execution_count": 8,
   "id": "8e36e4fc",
   "metadata": {},
   "outputs": [
    {
     "name": "stdout",
     "output_type": "stream",
     "text": [
      "## Examination Analysis\n",
      "* Midterm\n",
      "    * Mean: 70.275\n",
      "    * Variance: 844.042\n",
      "    * Median: 75.000\n",
      "    * Min/Max: (0.000, 123.000)\n",
      "* Final\n",
      "    * Mean: 57.078\n",
      "    * Variance: 933.719\n",
      "    * Median: 69.000\n",
      "    * Min/Max: (0.000, 98.000)\n",
      "* Total\n",
      "    * Mean: 56.735\n",
      "    * Variance: 685.352\n",
      "    * Median: 66.040\n",
      "    * Min/Max: (0.000, 95.760)\n"
     ]
    }
   ],
   "source": [
    "print(\"## Examination Analysis\")\n",
    "\n",
    "sub_titles = {\"Midterm\": \"midterm\", \"Final\": \"final\", \"Total\": \"total\"} # sub_title : column_name\n",
    "for sub_title in sub_titles:\n",
    "    column_name = sub_titles[sub_title]\n",
    "    mean, variance, median, min, max = get_analysis(df[column_name].tolist())\n",
    "    print(f\"* {sub_title}\")\n",
    "    print(f\"    * Mean: {mean:.3f}\")\n",
    "    print(f\"    * Variance: {variance:.3f}\")\n",
    "    print(f\"    * Median: {median:.3f}\")\n",
    "    print(f\"    * Min/Max: ({min:.3f}, {max:.3f})\")\n"
   ]
  },
  {
   "cell_type": "code",
   "execution_count": 21,
   "id": "32651c4b",
   "metadata": {},
   "outputs": [
    {
     "name": "stdout",
     "output_type": "stream",
     "text": [
      "87.76\n"
     ]
    }
   ],
   "source": [
    "import pandas as pd\n",
    "\n",
    "df2 = pd.read_csv(\"data/class_score_en.csv\")\n",
    "data2 = df2.values.tolist()\n",
    "\n",
    "\n",
    "\n",
    "row = data2[0]\n",
    "weight = [40/125, 60/100]\n",
    "a = row[0] * weight[0] + row[1] * weight[1]\n",
    "print(a)\n",
    "\n",
    "print(data2)"
   ]
  }
 ],
 "metadata": {
  "kernelspec": {
   "display_name": "Python 3 (ipykernel)",
   "language": "python",
   "name": "python3"
  },
  "language_info": {
   "codemirror_mode": {
    "name": "ipython",
    "version": 3
   },
   "file_extension": ".py",
   "mimetype": "text/x-python",
   "name": "python",
   "nbconvert_exporter": "python",
   "pygments_lexer": "ipython3",
   "version": "3.9.12"
  }
 },
 "nbformat": 4,
 "nbformat_minor": 5
}
